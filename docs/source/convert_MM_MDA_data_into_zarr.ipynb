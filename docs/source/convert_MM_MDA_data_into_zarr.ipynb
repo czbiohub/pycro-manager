{
 "cells": [
  {
   "cell_type": "markdown",
   "metadata": {},
   "source": [
    "# Convert Micromanager multidimensional tiff data into zarr format  \n",
    "\n",
    "This notebook explains how to use Pycromanger to readout the multi-dimensional data saved by Micro-manager and convert it into zarr format. \n",
    "\n",
    "This is useful when the multi-dimensional data is large (more than hundreds of GBs). Currently there is no python reader that can directly readout the large multi-dimensional data saved by Micromanger. Therefore, Pycromanger can be used as a reader to bridge this gap.\n",
    "\n",
    "To run this notebook, first open Micromanger, then load the multi-dimensional data into Micromanger using virtual stack. Pycromanger will then be able to read out that data via a Java-Python bridge.\n",
    "\n",
    "After the data is converted to zarr, one can easier load the data into Python and perform downsteam processing."
   ]
  },
  {
   "cell_type": "code",
   "execution_count": 19,
   "metadata": {
    "scrolled": true
   },
   "outputs": [],
   "source": [
    "import zarr\n",
    "import numpy as np\n",
    "from pycromanager import Bridge"
   ]
  },
  {
   "cell_type": "markdown",
   "metadata": {},
   "source": [
    "### Construct java objects"
   ]
  },
  {
   "cell_type": "code",
   "execution_count": 20,
   "metadata": {},
   "outputs": [],
   "source": [
    "bridge = Bridge()\n",
    "mm = bridge.get_studio()\n",
    "ds = mm.displays().get_active_data_viewer().get_data_provider()"
   ]
  },
  {
   "cell_type": "markdown",
   "metadata": {},
   "source": [
    "### Set parameters\n"
   ]
  },
  {
   "cell_type": "code",
   "execution_count": 24,
   "metadata": {},
   "outputs": [],
   "source": [
    "nb_tp = 500  # number of time points\n",
    "nb_ch = 2    # number of channels\n",
    "nz = 600    # number of z slices\n",
    "ny = 2048   # number of y pixels in each image\n",
    "nx = 2048   # number of x pixels in each image\n",
    "save_to = r'D:\\zarr_data\\data.zarr'  # save to this directory"
   ]
  },
  {
   "cell_type": "markdown",
   "metadata": {},
   "source": [
    "### Create Zarr folder"
   ]
  },
  {
   "cell_type": "code",
   "execution_count": 22,
   "metadata": {},
   "outputs": [],
   "source": [
    "if not os.path.isdir(save_to):\n",
    "    # create new zarr folder\n",
    "    root = zarr.open(save_to, mode='w')\n",
    "    ch0 = root.zeros('ch0', shape=(nb_tp, nz, ny, nx), chunks=(1, 64, 512, 512), dtype='i2')\n",
    "    ch1 = root.zeros('ch1', shape=(nb_ch, nz, ny, nx), chunks=(1, 64, 512, 512), dtype='i2')\n",
    "    print(root.tree())"
   ]
  },
  {
   "cell_type": "code",
   "execution_count": 23,
   "metadata": {},
   "outputs": [],
   "source": [
    "# open the zarr folder to save data into it\n",
    "root = zarr.open(save_to, mode='rw')\n",
    "ch0 = root['ch0']\n",
    "ch1 = root['ch1']"
   ]
  },
  {
   "cell_type": "markdown",
   "metadata": {},
   "source": [
    "### Readout data from MM and save to zarr"
   ]
  },
  {
   "cell_type": "code",
   "execution_count": null,
   "metadata": {},
   "outputs": [],
   "source": [
    "data_stack = np.zeros((nz, ny, nx)) # initialize nparray to store a z-stack\n",
    "for t in range(nb_tp):\n",
    "    for ch in range(nb_ch):\n",
    "        for z in range(nb_slices):\n",
    "            coords_string = \"t={0},p=0,c={1},z={2}\".format(t, ch, z)\n",
    "            coords = mm.data().create_coords(coords_string)\n",
    "            mimg = ds.get_image(coords)\n",
    "            data_stack[z, :, :] = np.reshape(mimg.get_raw_pixels(), \n",
    "                                             newshape=[mimg.get_height(), \n",
    "                                                       mimg.get_width()])\n",
    "        if ch == 0:\n",
    "            ch0[t, :, :, :] = data_stack\n",
    "        else:\n",
    "            ch1[t, :, :, :] = data_stack"
   ]
  }
 ],
 "metadata": {
  "kernelspec": {
   "display_name": "Python 3",
   "language": "python",
   "name": "python3"
  },
  "language_info": {
   "codemirror_mode": {
    "name": "ipython",
    "version": 3
   },
   "file_extension": ".py",
   "mimetype": "text/x-python",
   "name": "python",
   "nbconvert_exporter": "python",
   "pygments_lexer": "ipython3",
   "version": "3.7.8"
  }
 },
 "nbformat": 4,
 "nbformat_minor": 2
}
